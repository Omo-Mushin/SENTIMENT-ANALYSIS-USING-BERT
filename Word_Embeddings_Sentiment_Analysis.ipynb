{
 "cells": [
  {
   "cell_type": "code",
   "execution_count": 1,
   "id": "167a93d9",
   "metadata": {},
   "outputs": [
    {
     "name": "stdout",
     "output_type": "stream",
     "text": [
      "WARNING:tensorflow:From C:\\Users\\OMO_MUSHIN\\anaconda3\\Lib\\site-packages\\keras\\src\\losses.py:2976: The name tf.losses.sparse_softmax_cross_entropy is deprecated. Please use tf.compat.v1.losses.sparse_softmax_cross_entropy instead.\n",
      "\n"
     ]
    }
   ],
   "source": [
    "import tensorflow as tf\n",
    "from tensorflow.keras.preprocessing.text import one_hot\n",
    "from tensorflow.keras.preprocessing.sequence import pad_sequences\n",
    "from tensorflow.keras.models import Sequential\n",
    "from tensorflow.keras.layers import Dense\n",
    "from tensorflow.keras.layers import Flatten\n",
    "from tensorflow.keras.layers import Embedding\n",
    "import numpy as np"
   ]
  },
  {
   "cell_type": "code",
   "execution_count": 2,
   "id": "3ff4223d",
   "metadata": {},
   "outputs": [],
   "source": [
    "reviews = [\n",
    "    'nice food',\n",
    "    'amazing restaurant',\n",
    "    'too good',\n",
    "    'just loved it',\n",
    "    'will go again',\n",
    "    'horrible food',\n",
    "    'never go there',\n",
    "    'poor service',\n",
    "    'poor quality',\n",
    "    'needs improvement'\n",
    "]\n",
    "\n",
    "sentiment = np.array([\n",
    "    1, 1, 1, 1, 1, 0, 0, 0, 0, 0\n",
    "])"
   ]
  },
  {
   "cell_type": "code",
   "execution_count": 3,
   "id": "b280cf99",
   "metadata": {},
   "outputs": [
    {
     "data": {
      "text/plain": [
       "[20, 15]"
      ]
     },
     "execution_count": 3,
     "metadata": {},
     "output_type": "execute_result"
    }
   ],
   "source": [
    "one_hot(reviews[2], 30)"
   ]
  },
  {
   "cell_type": "code",
   "execution_count": 4,
   "id": "9144254e",
   "metadata": {},
   "outputs": [],
   "source": [
    "vocab_size = 30\n",
    "one_hot_reviews = []\n",
    "for review in reviews:\n",
    "    one_hot_reviews.append(one_hot(review, vocab_size ))"
   ]
  },
  {
   "cell_type": "code",
   "execution_count": 5,
   "id": "f2a94c6a",
   "metadata": {},
   "outputs": [
    {
     "data": {
      "text/plain": [
       "[[13, 13],\n",
       " [27, 3],\n",
       " [20, 15],\n",
       " [20, 20, 9],\n",
       " [26, 7, 13],\n",
       " [8, 13],\n",
       " [15, 7, 16],\n",
       " [3, 3],\n",
       " [3, 2],\n",
       " [3, 23]]"
      ]
     },
     "execution_count": 5,
     "metadata": {},
     "output_type": "execute_result"
    }
   ],
   "source": [
    "one_hot_reviews"
   ]
  },
  {
   "cell_type": "code",
   "execution_count": 6,
   "id": "722ec7d7",
   "metadata": {},
   "outputs": [
    {
     "data": {
      "text/plain": [
       "array([[13, 13,  0,  0],\n",
       "       [27,  3,  0,  0],\n",
       "       [20, 15,  0,  0],\n",
       "       [20, 20,  9,  0],\n",
       "       [26,  7, 13,  0],\n",
       "       [ 8, 13,  0,  0],\n",
       "       [15,  7, 16,  0],\n",
       "       [ 3,  3,  0,  0],\n",
       "       [ 3,  2,  0,  0],\n",
       "       [ 3, 23,  0,  0]])"
      ]
     },
     "execution_count": 6,
     "metadata": {},
     "output_type": "execute_result"
    }
   ],
   "source": [
    "max_length = 4\n",
    "padded_reviews = pad_sequences(one_hot_reviews, maxlen=max_length, padding='post')\n",
    "\n",
    "padded_reviews"
   ]
  },
  {
   "cell_type": "code",
   "execution_count": 7,
   "id": "4ecad4c3",
   "metadata": {},
   "outputs": [
    {
     "name": "stdout",
     "output_type": "stream",
     "text": [
      "WARNING:tensorflow:From C:\\Users\\OMO_MUSHIN\\anaconda3\\Lib\\site-packages\\keras\\src\\backend.py:873: The name tf.get_default_graph is deprecated. Please use tf.compat.v1.get_default_graph instead.\n",
      "\n"
     ]
    }
   ],
   "source": [
    "embedded_vector_size = 5\n",
    "\n",
    "model = Sequential()\n",
    "model.add(Embedding(vocab_size, embedded_vector_size, input_length=max_length, name='embed1'))\n",
    "model.add(Flatten()),\n",
    "model.add(Dense(1, activation='sigmoid'))"
   ]
  },
  {
   "cell_type": "code",
   "execution_count": 8,
   "id": "1d3d8595",
   "metadata": {},
   "outputs": [],
   "source": [
    "X = padded_reviews \n",
    "y = sentiment"
   ]
  },
  {
   "cell_type": "code",
   "execution_count": 9,
   "id": "c88c20b1",
   "metadata": {},
   "outputs": [
    {
     "name": "stdout",
     "output_type": "stream",
     "text": [
      "WARNING:tensorflow:From C:\\Users\\OMO_MUSHIN\\anaconda3\\Lib\\site-packages\\keras\\src\\optimizers\\__init__.py:309: The name tf.train.Optimizer is deprecated. Please use tf.compat.v1.train.Optimizer instead.\n",
      "\n",
      "Model: \"sequential\"\n",
      "_________________________________________________________________\n",
      " Layer (type)                Output Shape              Param #   \n",
      "=================================================================\n",
      " embed1 (Embedding)          (None, 4, 5)              150       \n",
      "                                                                 \n",
      " flatten (Flatten)           (None, 20)                0         \n",
      "                                                                 \n",
      " dense (Dense)               (None, 1)                 21        \n",
      "                                                                 \n",
      "=================================================================\n",
      "Total params: 171 (684.00 Byte)\n",
      "Trainable params: 171 (684.00 Byte)\n",
      "Non-trainable params: 0 (0.00 Byte)\n",
      "_________________________________________________________________\n"
     ]
    }
   ],
   "source": [
    "model.compile(optimizer='adam', loss='binary_crossentropy', metrics=['accuracy'])\n",
    "model.summary()"
   ]
  },
  {
   "cell_type": "code",
   "execution_count": 10,
   "id": "08e5b436",
   "metadata": {},
   "outputs": [
    {
     "name": "stdout",
     "output_type": "stream",
     "text": [
      "Epoch 1/50\n",
      "WARNING:tensorflow:From C:\\Users\\OMO_MUSHIN\\anaconda3\\Lib\\site-packages\\keras\\src\\utils\\tf_utils.py:492: The name tf.ragged.RaggedTensorValue is deprecated. Please use tf.compat.v1.ragged.RaggedTensorValue instead.\n",
      "\n",
      "WARNING:tensorflow:From C:\\Users\\OMO_MUSHIN\\anaconda3\\Lib\\site-packages\\keras\\src\\engine\\base_layer_utils.py:384: The name tf.executing_eagerly_outside_functions is deprecated. Please use tf.compat.v1.executing_eagerly_outside_functions instead.\n",
      "\n",
      "1/1 [==============================] - 4s 4s/step - loss: 0.7004 - accuracy: 0.4000\n",
      "Epoch 2/50\n",
      "1/1 [==============================] - 0s 26ms/step - loss: 0.6994 - accuracy: 0.4000\n",
      "Epoch 3/50\n",
      "1/1 [==============================] - 0s 30ms/step - loss: 0.6984 - accuracy: 0.4000\n",
      "Epoch 4/50\n",
      "1/1 [==============================] - 0s 20ms/step - loss: 0.6974 - accuracy: 0.4000\n",
      "Epoch 5/50\n",
      "1/1 [==============================] - 0s 17ms/step - loss: 0.6964 - accuracy: 0.4000\n",
      "Epoch 6/50\n",
      "1/1 [==============================] - 0s 19ms/step - loss: 0.6953 - accuracy: 0.4000\n",
      "Epoch 7/50\n",
      "1/1 [==============================] - 0s 7ms/step - loss: 0.6943 - accuracy: 0.4000\n",
      "Epoch 8/50\n",
      "1/1 [==============================] - 0s 18ms/step - loss: 0.6933 - accuracy: 0.4000\n",
      "Epoch 9/50\n",
      "1/1 [==============================] - 0s 15ms/step - loss: 0.6924 - accuracy: 0.4000\n",
      "Epoch 10/50\n",
      "1/1 [==============================] - 0s 16ms/step - loss: 0.6914 - accuracy: 0.4000\n",
      "Epoch 11/50\n",
      "1/1 [==============================] - 0s 16ms/step - loss: 0.6904 - accuracy: 0.4000\n",
      "Epoch 12/50\n",
      "1/1 [==============================] - 0s 7ms/step - loss: 0.6894 - accuracy: 0.4000\n",
      "Epoch 13/50\n",
      "1/1 [==============================] - 0s 27ms/step - loss: 0.6884 - accuracy: 0.4000\n",
      "Epoch 14/50\n",
      "1/1 [==============================] - 0s 16ms/step - loss: 0.6875 - accuracy: 0.4000\n",
      "Epoch 15/50\n",
      "1/1 [==============================] - 0s 18ms/step - loss: 0.6865 - accuracy: 0.4000\n",
      "Epoch 16/50\n",
      "1/1 [==============================] - 0s 9ms/step - loss: 0.6855 - accuracy: 0.4000\n",
      "Epoch 17/50\n",
      "1/1 [==============================] - 0s 26ms/step - loss: 0.6846 - accuracy: 0.4000\n",
      "Epoch 18/50\n",
      "1/1 [==============================] - 0s 15ms/step - loss: 0.6836 - accuracy: 0.5000\n",
      "Epoch 19/50\n",
      "1/1 [==============================] - 0s 16ms/step - loss: 0.6827 - accuracy: 0.5000\n",
      "Epoch 20/50\n",
      "1/1 [==============================] - 0s 9ms/step - loss: 0.6817 - accuracy: 0.5000\n",
      "Epoch 21/50\n",
      "1/1 [==============================] - 0s 25ms/step - loss: 0.6807 - accuracy: 0.5000\n",
      "Epoch 22/50\n",
      "1/1 [==============================] - 0s 15ms/step - loss: 0.6798 - accuracy: 0.5000\n",
      "Epoch 23/50\n",
      "1/1 [==============================] - 0s 0s/step - loss: 0.6788 - accuracy: 0.6000\n",
      "Epoch 24/50\n",
      "1/1 [==============================] - 0s 18ms/step - loss: 0.6778 - accuracy: 0.6000\n",
      "Epoch 25/50\n",
      "1/1 [==============================] - 0s 17ms/step - loss: 0.6769 - accuracy: 0.6000\n",
      "Epoch 26/50\n",
      "1/1 [==============================] - 0s 15ms/step - loss: 0.6759 - accuracy: 0.7000\n",
      "Epoch 27/50\n",
      "1/1 [==============================] - 0s 15ms/step - loss: 0.6749 - accuracy: 0.7000\n",
      "Epoch 28/50\n",
      "1/1 [==============================] - 0s 16ms/step - loss: 0.6740 - accuracy: 0.8000\n",
      "Epoch 29/50\n",
      "1/1 [==============================] - 0s 7ms/step - loss: 0.6730 - accuracy: 0.8000\n",
      "Epoch 30/50\n",
      "1/1 [==============================] - 0s 17ms/step - loss: 0.6720 - accuracy: 0.8000\n",
      "Epoch 31/50\n",
      "1/1 [==============================] - 0s 23ms/step - loss: 0.6710 - accuracy: 0.8000\n",
      "Epoch 32/50\n",
      "1/1 [==============================] - 0s 18ms/step - loss: 0.6700 - accuracy: 0.8000\n",
      "Epoch 33/50\n",
      "1/1 [==============================] - 0s 16ms/step - loss: 0.6690 - accuracy: 0.8000\n",
      "Epoch 34/50\n",
      "1/1 [==============================] - 0s 18ms/step - loss: 0.6680 - accuracy: 0.8000\n",
      "Epoch 35/50\n",
      "1/1 [==============================] - 0s 17ms/step - loss: 0.6669 - accuracy: 0.8000\n",
      "Epoch 36/50\n",
      "1/1 [==============================] - 0s 15ms/step - loss: 0.6659 - accuracy: 0.8000\n",
      "Epoch 37/50\n",
      "1/1 [==============================] - 0s 15ms/step - loss: 0.6649 - accuracy: 0.8000\n",
      "Epoch 38/50\n",
      "1/1 [==============================] - 0s 51ms/step - loss: 0.6638 - accuracy: 0.8000\n",
      "Epoch 39/50\n",
      "1/1 [==============================] - 0s 16ms/step - loss: 0.6627 - accuracy: 0.8000\n",
      "Epoch 40/50\n",
      "1/1 [==============================] - 0s 16ms/step - loss: 0.6617 - accuracy: 0.8000\n",
      "Epoch 41/50\n",
      "1/1 [==============================] - 0s 9ms/step - loss: 0.6606 - accuracy: 0.8000\n",
      "Epoch 42/50\n",
      "1/1 [==============================] - 0s 23ms/step - loss: 0.6595 - accuracy: 0.8000\n",
      "Epoch 43/50\n",
      "1/1 [==============================] - 0s 14ms/step - loss: 0.6584 - accuracy: 0.9000\n",
      "Epoch 44/50\n",
      "1/1 [==============================] - 0s 15ms/step - loss: 0.6573 - accuracy: 0.9000\n",
      "Epoch 45/50\n",
      "1/1 [==============================] - 0s 12ms/step - loss: 0.6562 - accuracy: 0.9000\n",
      "Epoch 46/50\n",
      "1/1 [==============================] - 0s 13ms/step - loss: 0.6551 - accuracy: 0.9000\n",
      "Epoch 47/50\n",
      "1/1 [==============================] - 0s 14ms/step - loss: 0.6539 - accuracy: 0.9000\n",
      "Epoch 48/50\n",
      "1/1 [==============================] - 0s 17ms/step - loss: 0.6528 - accuracy: 0.9000\n",
      "Epoch 49/50\n",
      "1/1 [==============================] - 0s 8ms/step - loss: 0.6516 - accuracy: 0.9000\n",
      "Epoch 50/50\n",
      "1/1 [==============================] - 0s 10ms/step - loss: 0.6505 - accuracy: 0.9000\n"
     ]
    },
    {
     "data": {
      "text/plain": [
       "<keras.src.callbacks.History at 0x233425b3810>"
      ]
     },
     "execution_count": 10,
     "metadata": {},
     "output_type": "execute_result"
    }
   ],
   "source": [
    "model.fit(X, y, epochs=50, verbose=1)"
   ]
  },
  {
   "cell_type": "code",
   "execution_count": 11,
   "id": "51b43d0d",
   "metadata": {},
   "outputs": [
    {
     "name": "stdout",
     "output_type": "stream",
     "text": [
      "1/1 [==============================] - 0s 343ms/step - loss: 0.6493 - accuracy: 0.9000\n"
     ]
    }
   ],
   "source": [
    "loss, accuracy = model.evaluate(X, y)"
   ]
  },
  {
   "cell_type": "code",
   "execution_count": 16,
   "id": "79d4c0a7",
   "metadata": {},
   "outputs": [],
   "source": [
    "# model.get_layer('embed1').get_weights()[0]"
   ]
  },
  {
   "cell_type": "code",
   "execution_count": 17,
   "id": "2afe18c8",
   "metadata": {},
   "outputs": [],
   "source": [
    "# model.predict(padded_reviews[1])"
   ]
  },
  {
   "cell_type": "code",
   "execution_count": null,
   "id": "af8ecb19",
   "metadata": {},
   "outputs": [],
   "source": []
  }
 ],
 "metadata": {
  "kernelspec": {
   "display_name": "Python 3 (ipykernel)",
   "language": "python",
   "name": "python3"
  },
  "language_info": {
   "codemirror_mode": {
    "name": "ipython",
    "version": 3
   },
   "file_extension": ".py",
   "mimetype": "text/x-python",
   "name": "python",
   "nbconvert_exporter": "python",
   "pygments_lexer": "ipython3",
   "version": "3.11.5"
  }
 },
 "nbformat": 4,
 "nbformat_minor": 5
}
